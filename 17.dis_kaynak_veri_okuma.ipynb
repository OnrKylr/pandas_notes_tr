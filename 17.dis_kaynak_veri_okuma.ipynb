{
 "cells": [
  {
   "cell_type": "code",
   "execution_count": 1,
   "id": "e1dbe0ad-5e8d-432d-a3c6-10f07c8dfe85",
   "metadata": {},
   "outputs": [],
   "source": [
    "import pandas as pd"
   ]
  },
  {
   "cell_type": "code",
   "execution_count": null,
   "id": "b1398a47-2da8-47d6-a9bd-85894eedec1f",
   "metadata": {},
   "outputs": [],
   "source": [
    "?pd.read_csv"
   ]
  },
  {
   "cell_type": "code",
   "execution_count": null,
   "id": "1cfbca7f-f18c-4510-a155-2c5ad81e3de9",
   "metadata": {},
   "outputs": [],
   "source": [
    "#csv okuma\n",
    "pd.read_csv(\"reading_data/ornekcsv.csv\", sep = \";\")"
   ]
  },
  {
   "cell_type": "code",
   "execution_count": null,
   "id": "d31549e8-ba9c-4cc4-ad9c-9cb274e5e94e",
   "metadata": {},
   "outputs": [],
   "source": [
    "#txt okuma\n",
    "pd.read_csv(\"reading_data/duz_metin.txt\")"
   ]
  },
  {
   "cell_type": "code",
   "execution_count": null,
   "id": "ec2de94a-b649-4a67-b8fd-3e7f3f1ca15f",
   "metadata": {},
   "outputs": [],
   "source": [
    "#excel\n",
    "pd.read_excel(\"reading_data/ornekx.xlsx\")"
   ]
  },
  {
   "cell_type": "code",
   "execution_count": null,
   "id": "6e83c9e0-db75-4840-84fa-418ab06ce708",
   "metadata": {},
   "outputs": [],
   "source": [
    "#sıfırdan txt okuma\n",
    "tips = pd.read_csv(\"reading_data/data.txt\")"
   ]
  },
  {
   "cell_type": "code",
   "execution_count": null,
   "id": "2b80e0a9-6e64-400a-bc93-c4b2899437e1",
   "metadata": {},
   "outputs": [],
   "source": [
    "tips.head()"
   ]
  }
 ],
 "metadata": {
  "kernelspec": {
   "display_name": "Python 3 (ipykernel)",
   "language": "python",
   "name": "python3"
  },
  "language_info": {
   "codemirror_mode": {
    "name": "ipython",
    "version": 3
   },
   "file_extension": ".py",
   "mimetype": "text/x-python",
   "name": "python",
   "nbconvert_exporter": "python",
   "pygments_lexer": "ipython3",
   "version": "3.10.9"
  }
 },
 "nbformat": 4,
 "nbformat_minor": 5
}
